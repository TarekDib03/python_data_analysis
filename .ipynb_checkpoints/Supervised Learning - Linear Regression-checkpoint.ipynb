{
 "metadata": {
  "name": "",
  "signature": "sha256:379f4ca5849f09fea8a80358080c2a7b2c48eb221796ce6b34c54ffa68c2e10a"
 },
 "nbformat": 3,
 "nbformat_minor": 0,
 "worksheets": []
}