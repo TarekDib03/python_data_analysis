{
 "cells": [
  {
   "cell_type": "markdown",
   "metadata": {},
   "source": [
    "### Imports"
   ]
  },
  {
   "cell_type": "code",
   "execution_count": 1,
   "metadata": {
    "collapsed": true
   },
   "outputs": [],
   "source": [
    "# Data Imports\n",
    "import numpy as np\n",
    "import pandas as pd \n",
    "from pandas import Series, DataFrame\n",
    "\n",
    "# Math\n",
    "import math\n",
    "\n",
    "# Data visualization imports\n",
    "import matplotlib.pyplot as plt\n",
    "import seaborn as sns\n",
    "sns.set_style('whitegrid')\n",
    "%matplotlib inline\n",
    "\n",
    "# Machine Learning imports\n",
    "from sklearn.linear_model import LogisticRegression\n",
    "from sklearn.cross_validation import train_test_split\n",
    "\n",
    "# For evaluating our machine learning results\n",
    "from sklearn import metrics\n",
    "\n",
    "# Dataset import \n",
    "import statsmodels.api as sm"
   ]
  },
  {
   "cell_type": "markdown",
   "metadata": {
    "collapsed": true
   },
   "source": [
    "### Mathematical Derivation of the Algorithm"
   ]
  },
  {
   "cell_type": "markdown",
   "metadata": {
    "collapsed": true
   },
   "source": [
    "Logistic regression is a regression model where the response/ target variable is categorical, and the explanatory\n",
    "variables are either categorical or continuous. The conditional distribution p(y \\mid x) is a Bernoulli \n",
    "distribution rather than a Gaussian distribution as in the linear regression case, because the dependent variable \n",
    "is binary. The estimated probabilities are restricted to [0,1] through the logistic distribution function because \n",
    "logistic regression predicts the probability of the instance being positive. The logistic function for a simple\n",
    "logistic regression is given by:\n",
    "\\begin{aligned}\n",
    "p = \\frac{e^{\\beta_0 + \\beta_1 x}}{1 + e^{\\beta_0 + \\beta_1 x}}\n",
    "\\end{aligned}"
   ]
  },
  {
   "cell_type": "markdown",
   "metadata": {
    "collapsed": true
   },
   "source": [
    "$\\beta_0$ and $\\beta_1$ are the model parameters to be estimated using the log likelihood method. Another way to\n",
    "write the logistic regression is as follows:\n",
    "\\begin{aligned}\n",
    "p = \\frac{1}{1 + e^{-(\\beta_0 + \\beta_1 x)}}\n",
    "\\end{aligned}\n",
    "The above equation was derived after multiplying numerator and denominator by $e^{-(\\beta_0 + \\beta_1 x)}$."
   ]
  },
  {
   "cell_type": "markdown",
   "metadata": {},
   "source": [
    "The logistic function is bounded between 0 and 1 as is shown below:\n",
    "$$\\lim_{x\\to -\\infty} \\frac{1}{1 + e^{-(\\beta_0 + \\beta_1 x)}} = 0$$\n",
    "And\n",
    "$$\\lim_{x\\to \\infty} \\frac{1}{1 + e^{-(\\beta_0 + \\beta_1 x)}} = 1$$\n",
    "Since $\\lim_{x\\to -\\infty} e^{-u} = \\infty$ and $\\lim_{x\\to \\infty} e^{-u} = 0$ where u is a function of x."
   ]
  },
  {
   "cell_type": "markdown",
   "metadata": {},
   "source": [
    "Thus, the logistic regression function is a probability mass function!"
   ]
  },
  {
   "cell_type": "markdown",
   "metadata": {},
   "source": [
    "With some algebra, one can show that odds is: $$\\frac{p}{1-p} = e^{\\beta_0 + \\beta_1 x}$$\n",
    "\n",
    "The odds ratio for a single predictor is $e^{\\beta_1}$ i.e. it is the odds multiplied by $e^{\\beta_1}$ for every \n",
    "1-unit increase in $x$. \n",
    "\n",
    "**Note**: Odds ratio is given as follows: $$OR = \\frac{odds(x+1)}{odds(x)}$$"
   ]
  },
  {
   "cell_type": "markdown",
   "metadata": {},
   "source": [
    "#### Deviance"
   ]
  },
  {
   "cell_type": "markdown",
   "metadata": {},
   "source": [
    "Deviance is used to measure the lack of fit to the data in a logistic regression model. Deviance is given as: \n",
    "\n",
    "$$D = -2ln\\frac{likelihood of the fitted model}{likelihood of the saturated model}$$\n",
    "\n",
    "Smaller D's indicate better fit as the model deviates less from the saturated model. If the saturated model is not\n",
    "available, then deviance is: \n",
    "\n",
    "$$D = -2ln(likelihood of the fitted model)$$"
   ]
  },
  {
   "cell_type": "code",
   "execution_count": null,
   "metadata": {
    "collapsed": true
   },
   "outputs": [],
   "source": []
  }
 ],
 "metadata": {
  "kernelspec": {
   "display_name": "Python 2",
   "language": "python",
   "name": "python2"
  },
  "language_info": {
   "codemirror_mode": {
    "name": "ipython",
    "version": 2
   },
   "file_extension": ".py",
   "mimetype": "text/x-python",
   "name": "python",
   "nbconvert_exporter": "python",
   "pygments_lexer": "ipython2",
   "version": "2.7.10"
  }
 },
 "nbformat": 4,
 "nbformat_minor": 0
}
