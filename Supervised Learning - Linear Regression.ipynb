{
 "metadata": {
  "name": "",
  "signature": "sha256:7be73af26727367aa1fdc97dd9aca8286dce278f8eedb1fbe5590fa3120a642d"
 },
 "nbformat": 3,
 "nbformat_minor": 0,
 "worksheets": [
  {
   "cells": [
    {
     "cell_type": "markdown",
     "metadata": {},
     "source": [
      "Step 1: Getting and Setting up the Data'\n",
      "'We will start by looking at an example of a data set from scikit-learn.'\n",
      "'#### Data Analysis Packages'\n",
      "'import numpy as np'\n",
      "'import pandas as pd'\n",
      "'from pandas import Series, DataFrame'\n",
      "'#### Data Visulaization Tools'\n",
      "'import matplotlib.pyplot as plt'\n",
      "'import seaborn as sns'\n",
      "''\n",
      "\"sns.set_style('whitegrid')\"\n",
      "'%matplotlib inline'\n",
      "'#### Load Data Set from Scikit Learn'\n",
      "'from sklearn.datasets import load_boston'\n",
      "'boston = load_boston()'\n",
      "'print boston.DESCR'\n",
      "'### Step 2: Visualizing Current Data'\n",
      "'#### Distribution of Median Prices of Houses'\n",
      "'plt.hist(boston.target, bins=50)'\n",
      "''\n",
      "\"plt.xlabel('Prices in $1000s')\"\n",
      "\"plt.ylabel('Number of houses')\"\n",
      "'#### Scatter Plot of Prices versus Number of Rooms'\n",
      "'plt.scatter(boston.data[:,5], boston.target)'\n",
      "''\n",
      "\"plt.ylabel('Prices in $1000s')\"\n",
      "\"plt.xlabel('Number of Rooms')\"\n",
      "'#### Transfer data into a Pandas Data Frame'\n",
      "'boston_df = DataFrame(boston.data)'\n",
      "''\n",
      "'boston_df.columns = boston.feature_names'\n",
      "'boston_df.head()'\n",
      "'# Lets add the target that is the price of houses'\n",
      "\"boston_df['Price'] = boston.target\"\n",
      "'boston_df.columns'\n",
      "'#### Linear Fit - Price vs. Number of Rooms'\n",
      "\"sns.lmplot('RM','Price',data=boston_df)\"\n",
      "'### Step 3: The Mathematics behind Ordinary Least Square Method'\n",
      "'#### General Form'\n",
      "'The general equation of linear regression model would look like the following:'\n",
      "''\n",
      "'\\\\begin{aligned}'\n",
      "'y = X\\\\beta + \\\\epsilon'\n",
      "'\\\\end{aligned}'\n",
      "''\n",
      "'Where X is the design matrix of size n by k (n is the number of attributes/instances and k is the number of features, $\\\\beta$ is a parameter vector of size k by 1, y is the target/label/output vector of size n by 1, and $\\\\epsilon$ is the residual of size n by 1. $\\\\epsilon$ is a white noise (normally distributed with mean 0).'\n",
      "'#### Procedure to estimate $\\\\beta$'\n",
      "'The error $\\\\epsilon$ can be written as: $$e = y - X\\\\hat\\\\beta$$'\n",
      "''\n",
      "'the criteria for obtaining our estimates is to find the estimator $\\\\hat\\\\beta$ that minimizes the sum of squared residuals. The sum of squared residuals is given by:'\n",
      "''\n",
      "'\\\\begin{aligned}'\n",
      "\"e'e &= (y - X\\\\hat\\\\beta)'(y - X\\\\hat\\\\beta) \\\\\\\\ &= y'y - \\\\hat\\\\beta'X'y - y'X\\\\hat\\\\beta  + \\\\hat\\\\beta'X'X\\\\hat\\\\beta \\\\\\\\ &= y'y - 2\\\\hat\\\\beta X'y + \\\\hat\\\\beta'X'X\\\\hat\\\\beta\"\n",
      "'\\\\end{aligned}'\n",
      "''\n",
      "\"Then find the derivative squared residuals w.r.t $\\\\hat\\\\beta$ and set it to zero to find the parameters' estimates.\"\n",
      "''\n",
      "'$$'\n",
      "\"\\\\frac{\\\\partial e'e}{\\\\partial\\\\hat\\\\beta} = -2X'y + 2X'X\\\\hat\\\\beta = 0\"\n",
      "'$$'\n",
      "''\n",
      "'Solving for $\\\\hat\\\\beta$, we get:'\n",
      "\"$$\\\\hat\\\\beta = (X'X)^{-1}X'y$$\"\n",
      "''\n",
      "'#### Properties of the OLS Estimators'\n",
      "\"* The observed values of X are uncorrelated with the residuals i.e. $X'e = 0$\"\n",
      "'* The sum of the residuals is zero'\n",
      "'* The sample mean of the residuals is zero'\n",
      "'* The regression hyperplane passes through the means of the observed values ($\\\\bar X$ and $\\\\bar y$)'\n",
      "\"* The predicted values of y are uncorrelated with the residuals. $\\\\hat y = X \\\\hat\\\\beta$ Then $y'e = bX'e = b*0 = 0$\"\n",
      "'* The mean of the predicted Y\\xe2\\x80\\x99s for the sample will equal the mean of the observed Y\\xe2\\x80\\x99s'\n",
      "'### Step 4: Using Numpy for a Univariate Linear Regression'\n",
      "'# Set up median room values'\n",
      "'X = boston_df.RM'\n",
      "'X.shape'\n",
      "'X = np.vstack(boston_df.RM)'\n",
      "'X.shape'\n",
      "'y = boston_df.Price'\n",
      "'# Create the X array in the form [X 1]'\n",
      "'X = np.array([[value, 1] for value in X])'\n",
      "'X.shape'\n",
      "'X[1:4]'\n",
      "'# Use numpy lstsq method to estimate the parameters m and b'\n",
      "'m, b = np.linalg.lstsq(X, y)[0]'\n",
      "\"'''Note: m, b [0] are the parameters, [1]: mean squared error, [2]: Rank of matrix of parameters i.e.\"\n",
      "'number of parameters, [3]: is the singular (diagonal) values of param vector. Singular values relate to the'\n",
      "\"distance between a matrix and the set of singular matrices.'''\"\n",
      "''\n",
      "'# Check the documentation of lstsq method'\n",
      "\"rl = 'http://docs.scipy.org/doc/numpy/reference/generated/numpy.linalg.lstsq.html'\"\n",
      "'import webbrowser'\n",
      "'webbrowser.open(url)'\n",
      "''\n",
      "'# Here are some methods used to solve systems of linear equations using numpy'\n",
      "\"linear_algebra = 'http://docs.scipy.org/doc/scipy/reference/tutorial/linalg.html'\"\n",
      "'webbrowser.open(linear_algebra)'\n",
      "''\n",
      "'# Another good reference'\n",
      "\"rl1 = 'http://www2.geog.ucl.ac.uk/~mdisney/teaching/GEOGG121/inversion/prac/'\"\n",
      "'m, b'\n",
      "\"plt.plot(boston_df.RM, boston_df.Price, 'o')\"\n",
      "''\n",
      "'x = boston_df.RM'\n",
      "\"plt.plot(x, m*x + b, 'r', label = 'Best Fit Line')\"\n",
      "'# Reference on the theory'\n",
      "\"ref = 'http://web.stanford.edu/~mrosenfe/soc_meth_proj3/matrix_OLS_NYU_notes.pdf'\"\n",
      "'webbrowser.open(ref)'\n",
      "'### Step 5: Getting the Error'\n",
      "'# Get the resulting array'\n",
      "'result = np.linalg.lstsq(X, y)'\n",
      "''\n",
      "'# Get the total error'\n",
      "'error_total = result[1][0]'\n",
      "''\n",
      "'# Get the root mean square error'\n",
      "'rmse = np.sqrt(error_total/len(X))'\n",
      "''\n",
      "'# Print'\n",
      "\"print 'The root mean square error is %0.2f' %rmse\"\n",
      "'With 95% confidence level, house prices are within approximately $13000 off the house pricres.'\n",
      "'# Aside: Find the sum of i where i goes from 1 to 20'\n",
      "''\n",
      "'# Method 1'\n",
      "'i = range(1,21)'\n",
      "'print sum(i)'\n",
      "''\n",
      "'# Method 2'\n",
      "'n = 0'\n",
      "'for i in range(1,21):'\n",
      "'n = n + i'\n",
      "'print n'\n",
      "''\n",
      "'# Now find 20!'\n",
      "''\n",
      "'# Method 1'\n",
      "'num = 1'\n",
      "'for i in range(1,21):'\n",
      "'num = i*num'\n",
      "'print num'\n",
      "''\n",
      "'# Method 2: Use the factorial function in math library instead'\n",
      "'import math'\n",
      "'print math.factorial(20)'\n",
      "'### Step 6: Using Scikit Learn to Implement Multivariate Regression'\n",
      "'# Now lets use the scikit learn to build the linear regression model'\n",
      "'import sklearn'\n",
      "'from sklearn.linear_model import LinearRegression'\n",
      "''\n",
      "'# Documentation'\n",
      "\"LR = 'http://scikit-learn.org/stable/modules/generated/sklearn.linear_model.LinearRegression.html'\"\n",
      "'webbrowser.open(LR)'\n",
      "'# Create a linear regression object'\n",
      "'lreg = LinearRegression()'\n",
      "\"X_multi = boston_df.drop('Price',1)\"\n",
      "'y_target = boston_df.Price'\n",
      "'lreg.fit(X_multi, y_target)'\n",
      "\"print ' The estimated intercept coefficient is %.2f' % lreg.intercept_\"\n",
      "\"print ' The number of coefficients used is %d ' % len(lreg.coef_)\"\n",
      "'# Coefficient data frame of each of the explanatory variable'\n",
      "''\n",
      "'# First column is the column names of the boston data frame'\n",
      "'coeff_df = DataFrame(boston_df.columns)'\n",
      "'# Rename it to Features'\n",
      "\"coeff_df.columns = ['Features']\"\n",
      "''\n",
      "'# 2nd column is the coefficient estimates of the variables'\n",
      "\"coeff_df['Coefficient Estimate'] = Series(lreg.coef_)\"\n",
      "'# Drop the response variable Price'\n",
      "\"coeff_df = coeff_df[coeff_df.Features != 'Price']\"\n",
      "'# Print the coefficient data frame!'\n",
      "'coeff_df'\n",
      "'### Step 7: Using Training and Validation'\n",
      "'# Set train and test data sets'\n",
      "'# Cross validation method'\n",
      "\"cross = 'http://scikit-learn.org/stable/modules/cross_validation.html'\"\n",
      "\"model_selection = 'http://scikit-learn.org/stable/model_selection.html'\"\n",
      "'X_train, X_test, y_train, y_test = sklearn.cross_validation.train_test_split(X, boston_df.Price)'\n",
      "'print X_train.shape, X_test.shape, y_train.shape, y_test.shape'\n",
      "'### Step 8: Predicting House Prices'\n",
      "'lreg = LinearRegression()'\n",
      "''\n",
      "'# Fit the training data to the linear regression model'\n",
      "'lreg.fit(X_train, y_train)'\n",
      "'# Run a prediction on the training and test data sets'\n",
      "'pred_train = lreg.predict(X_train)'\n",
      "'pred_test = lreg.predict(X_test)'\n",
      "''\n",
      "\"print 'Fit a model X_train, and calculate the MSE with y_train: %.2f' % np.mean((y_train - pred_train)**2)\"\n",
      "\"print 'Fit a model X_train, and calculate the MSE with X_test and y_test: %.2f' % np.mean((y_test - pred_test)**2)\"\n",
      "'### Step 9: Residual Plot'\n",
      "\"train = plt.scatter(pred_train, (pred_train - y_train), c='b', alpha=0.5)\"\n",
      "\"test = plt.scatter(pred_test, (pred_test - y_test), c='r', alpha=0.5)\"\n",
      "''\n",
      "'plt.hlines(y=0, xmin=-10, xmax=50)'\n",
      "\"plt.legend((train, test), ('Training', 'Test'), loc='lower left')\"\n",
      "\"plt.title('Residual Plots')\"\n",
      "'From the above residual plot, it is clear that linear regression works pretty well for model the data at hand.'\n",
      "'There is no trend or pattern in the residuals, thus suggesting that the obseravations are independent and normally'\n",
      "'distributed.'"
     ]
    },
    {
     "cell_type": "markdown",
     "metadata": {},
     "source": [
      "### Step 1: Getting and Setting up the Data"
     ]
    },
    {
     "cell_type": "markdown",
     "metadata": {},
     "source": [
      "We will start by looking at an example of a data set from scikit-learn package."
     ]
    },
    {
     "cell_type": "markdown",
     "metadata": {},
     "source": [
      "#### Data Analysis Packages"
     ]
    },
    {
     "cell_type": "code",
     "collapsed": false,
     "input": [
      "import numpy as np \n",
      "import pandas as pd \n",
      "from pandas import Series, DataFrame"
     ],
     "language": "python",
     "metadata": {},
     "outputs": [],
     "prompt_number": 1
    },
    {
     "cell_type": "markdown",
     "metadata": {},
     "source": [
      "#### Data Visulaization Tools"
     ]
    },
    {
     "cell_type": "code",
     "collapsed": false,
     "input": [
      "import matplotlib.pyplot as plt\n",
      "import seaborn as sns\n",
      "sns.set_style('whitegrid')\n",
      "\n",
      "%matplotlib inline\n"
     ],
     "language": "python",
     "metadata": {},
     "outputs": [],
     "prompt_number": 7
    },
    {
     "cell_type": "markdown",
     "metadata": {},
     "source": [
      "#### Load Data Set from Scikit Learn"
     ]
    },
    {
     "cell_type": "code",
     "collapsed": false,
     "input": [
      "from sklearn.datasets import load_boston\n",
      "boston = load_boston()\n",
      "\n",
      "print boston.DESCR"
     ],
     "language": "python",
     "metadata": {},
     "outputs": [
      {
       "output_type": "stream",
       "stream": "stdout",
       "text": [
        "Boston House Prices dataset\n",
        "\n",
        "Notes\n",
        "------\n",
        "Data Set Characteristics:  \n",
        "\n",
        "    :Number of Instances: 506 \n",
        "\n",
        "    :Number of Attributes: 13 numeric/categorical predictive\n",
        "    \n",
        "    :Median Value (attribute 14) is usually the target\n",
        "\n",
        "    :Attribute Information (in order):\n",
        "        - CRIM     per capita crime rate by town\n",
        "        - ZN       proportion of residential land zoned for lots over 25,000 sq.ft.\n",
        "        - INDUS    proportion of non-retail business acres per town\n",
        "        - CHAS     Charles River dummy variable (= 1 if tract bounds river; 0 otherwise)\n",
        "        - NOX      nitric oxides concentration (parts per 10 million)\n",
        "        - RM       average number of rooms per dwelling\n",
        "        - AGE      proportion of owner-occupied units built prior to 1940\n",
        "        - DIS      weighted distances to five Boston employment centres\n",
        "        - RAD      index of accessibility to radial highways\n",
        "        - TAX      full-value property-tax rate per $10,000\n",
        "        - PTRATIO  pupil-teacher ratio by town\n",
        "        - B        1000(Bk - 0.63)^2 where Bk is the proportion of blacks by town\n",
        "        - LSTAT    % lower status of the population\n",
        "        - MEDV     Median value of owner-occupied homes in $1000's\n",
        "\n",
        "    :Missing Attribute Values: None\n",
        "\n",
        "    :Creator: Harrison, D. and Rubinfeld, D.L.\n",
        "\n",
        "This is a copy of UCI ML housing dataset.\n",
        "http://archive.ics.uci.edu/ml/datasets/Housing\n",
        "\n",
        "\n",
        "This dataset was taken from the StatLib library which is maintained at Carnegie Mellon University.\n",
        "\n",
        "The Boston house-price data of Harrison, D. and Rubinfeld, D.L. 'Hedonic\n",
        "prices and the demand for clean air', J. Environ. Economics & Management,\n",
        "vol.5, 81-102, 1978.   Used in Belsley, Kuh & Welsch, 'Regression diagnostics\n",
        "...', Wiley, 1980.   N.B. Various transformations are used in the table on\n",
        "pages 244-261 of the latter.\n",
        "\n",
        "The Boston house-price data has been used in many machine learning papers that address regression\n",
        "problems.   \n",
        "     \n",
        "**References**\n",
        "\n",
        "   - Belsley, Kuh & Welsch, 'Regression diagnostics: Identifying Influential Data and Sources of Collinearity', Wiley, 1980. 244-261.\n",
        "   - Quinlan,R. (1993). Combining Instance-Based and Model-Based Learning. In Proceedings on the Tenth International Conference of Machine Learning, 236-243, University of Massachusetts, Amherst. Morgan Kaufmann.\n",
        "   - many more! (see http://archive.ics.uci.edu/ml/datasets/Housing)\n",
        "\n"
       ]
      }
     ],
     "prompt_number": 8
    },
    {
     "cell_type": "markdown",
     "metadata": {},
     "source": [
      "### Step 2: Visualizing Current Data"
     ]
    },
    {
     "cell_type": "markdown",
     "metadata": {},
     "source": [
      "#### Distribution of Median Prices of Houses"
     ]
    },
    {
     "cell_type": "code",
     "collapsed": false,
     "input": [
      "plt.hist(boston.target, bins=50)\n",
      "plt.xlabel('Prices in 1000s')\n",
      "plt.ylabel('Number of houses')\n"
     ],
     "language": "python",
     "metadata": {},
     "outputs": [
      {
       "metadata": {},
       "output_type": "pyout",
       "prompt_number": 10,
       "text": [
        "<matplotlib.text.Text at 0xae12e36c>"
       ]
      },
      {
       "metadata": {},
       "output_type": "display_data",
       "png": "[encoded data removed]",
       "text": [
        "<matplotlib.figure.Figure at 0xae11358c>"
       ]
      }
     ],
     "prompt_number": 10
    },
    {
     "cell_type": "code",
     "collapsed": false,
     "input": [
      "#Scatter Plot of Prices versus Number of Rooms\n",
      "plt.scatter(boston.data[:,5], boston.target)\n",
      "plt.ylabel('Prices in1000s')\n",
      "plt.xlabel('Number of Rooms')"
     ],
     "language": "python",
     "metadata": {},
     "outputs": [
      {
       "metadata": {},
       "output_type": "pyout",
       "prompt_number": 11,
       "text": [
        "<matplotlib.text.Text at 0xadfb2fec>"
       ]
      },
      {
       "metadata": {},
       "output_type": "display_data",
       "png": "[encoded data removed]",
       "text": [
        "<matplotlib.figure.Figure at 0xadf5862c>"
       ]
      }
     ],
     "prompt_number": 11
    },
    {
     "cell_type": "code",
     "collapsed": false,
     "input": [],
     "language": "python",
     "metadata": {},
     "outputs": []
    }
   ],
   "metadata": {}
  }
 ]
}